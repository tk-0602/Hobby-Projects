{
 "cells": [
  {
   "cell_type": "markdown",
   "metadata": {},
   "source": [
    "Inspired by 4th year module SPA7022 Solar System"
   ]
  },
  {
   "cell_type": "code",
   "execution_count": 14,
   "metadata": {},
   "outputs": [],
   "source": [
    "import random as rnd\n",
    "from matplotlib import pyplot as plt\n",
    "import math\n",
    "from time import time"
   ]
  },
  {
   "cell_type": "code",
   "execution_count": 15,
   "metadata": {},
   "outputs": [],
   "source": [
    "import matplotlib\n",
    "# matplotlib.rcParams['savefig.dpi'] = 480\n",
    "matplotlib.rcParams[\"figure.dpi\"] = 240"
   ]
  },
  {
   "cell_type": "code",
   "execution_count": 16,
   "metadata": {},
   "outputs": [],
   "source": [
    "def search_attractors(n = 4): # Sets default n to 4\n",
    "\n",
    "    found = 0\n",
    "\n",
    "    while found < n:\n",
    "\n",
    "        #  Create random starting point (x and y coordinates)\n",
    "        x = rnd.uniform(-0.5, 0.5)\n",
    "        y = rnd.uniform(-0.5, 0.5)\n",
    "\n",
    "        # Random alternative point nearby\n",
    "        xe = x + (rnd.uniform(-0.5, 0.5) / 1000)\n",
    "        ye = y + (rnd.uniform(-0.5, 0.5) / 1000)\n",
    "\n",
    "        # Distance between the two points\n",
    "        dx = xe - x\n",
    "        dy = ye - y\n",
    "        d0 = math.sqrt((dx ** 2) + (dy ** 2))\n",
    "\n",
    "        # Create random parameter vector\n",
    "        a = [rnd.uniform(-2, 2) for i in range(12)]\n",
    "\n",
    "        # Store path in lists\n",
    "        x_list = [x]\n",
    "        y_list = [y]\n",
    "\n",
    "        # Initialse converging boolean and lyapunov exponent\n",
    "        converging = False\n",
    "        lyapunov = 0\n",
    "\n",
    "        # Iterativey pass (x, y) into the quadratic map\n",
    "        for i in range(10000):\n",
    "\n",
    "            # Compute next point using the current point coordinates and parameter vector\n",
    "            # Quadratic map: x_t+1 = (a_1) + (a_2 * x_t) + (a_3 * x_t ^ 2) + (a_4 * y_t) + (a_5 * y_t ^ 2) + (a_6 * x_t * y_t)\n",
    "            #                y_t+1 = (a_7) + (a_8 * x_t) + (a_9 * x_t ^ 2) + (a_10 * y_t) + (a_11 * y_t ^ 2) + (a_12 * x_t * y_t)\n",
    "            # Order of 'a' values does not matter as they are all random\n",
    "\n",
    "            x_new = a[0] + (a[1] * x) + (a[2] * (x ** 2)) + (a[3] * y) + (a[4] * (y ** 2)) + (a[5] * x * y)\n",
    "            y_new = a[6] + (a[7] * x) + (a[8] * (x ** 2)) + (a[9] * y) + (a[10] * (y ** 2)) + (a[11] * x * y)\n",
    "\n",
    "            # Check if converges to infinity - rule out inifinity cases\n",
    "            if (x_new > 1e10) or (y_new > 1e10) or (x_new < -1e10) or (y_new < -1e10):\n",
    "                converging = True\n",
    "                break\n",
    "\n",
    "            # Check if converges to a single point - check for a minimum amount of movement in *both* dimensions\n",
    "            if (abs(x - x_new) < 1e-10) and (abs(y - y_new) < 1e-10):\n",
    "                converging = True\n",
    "                break\n",
    "\n",
    "            # Check for chaotic behaviour\n",
    "            if i > 1000:\n",
    "\n",
    "                # Compute next alternative point\n",
    "                xe_new = a[0] + (a[1] * xe) + (a[2] * (xe ** 2)) + (a[3] * ye) + (a[4] * (ye ** 2)) + (a[5] * xe * ye)\n",
    "                ye_new = a[6] + (a[7] * xe) + (a[8] * (xe ** 2)) + (a[9] * ye) + (a[10] * (ye ** 2)) + (a[11] * xe * ye)\n",
    "\n",
    "                # Compute the distancebetween the new points\n",
    "                dx = xe_new - x_new\n",
    "                dy = ye_new - y_new\n",
    "                d = math.sqrt((dx ** 2) + (dy ** 2))\n",
    "\n",
    "                # Lyapunov exponent\n",
    "                lyapunov += math.log(abs(d / d0))\n",
    "\n",
    "                # Rescale the alternative point\n",
    "                xe = x_new + (d0 * dx / d)\n",
    "                ye = y_new + (d0 * dy / d)\n",
    "\n",
    "            # Update x and y\n",
    "            x = x_new\n",
    "            y = y_new\n",
    "\n",
    "            # Store new (x, y) in path lists\n",
    "            x_list.append(x)\n",
    "            y_list.append(y)\n",
    "\n",
    "        # If chaotic behaviour has been found\n",
    "        if (not converging) and (lyapunov >= 10):\n",
    "            \n",
    "            # Update counter and print message\n",
    "            found += 1\n",
    "            print(str(found) + \". Strange attractor with L = \" + str(lyapunov))\n",
    "\n",
    "            # Clear figure - when saving figures\n",
    "            plt.clf()\n",
    "\n",
    "            # Plot design\n",
    "            plt.style.use(\"dark_background\")\n",
    "            plt.axis(\"off\")\n",
    "\n",
    "            # Create the plot\n",
    "            plt.scatter(x_list[100:], y_list[100:], s = 0.1, c = \"white\", linewidth = 0)\n",
    "            # plt.show() # Comment if saving figures\n",
    "\n",
    "            # Save the figure\n",
    "            name = str(time())\n",
    "            plt.savefig(\"strange_attractors Gallery/Search/\" + name + \".png\", dpi = 240)\n",
    "\n",
    "            # Save the parameters\n",
    "            parameters = (x_list[0], y_list[0], a)\n",
    "            file = open(\"strange_attractors Gallery/Search/\" + name + \".txt\", \"w+\")\n",
    "            file.write(str(parameters))"
   ]
  },
  {
   "cell_type": "code",
   "execution_count": 17,
   "metadata": {},
   "outputs": [
    {
     "name": "stdout",
     "output_type": "stream",
     "text": [
      "1. Strange attractor with L = 1301.8368871320047\n"
     ]
    },
    {
     "data": {
      "image/png": "[encoded data removed]",
      "text/plain": [
       "<Figure size 1536x1152 with 1 Axes>"
      ]
     },
     "metadata": {},
     "output_type": "display_data"
    }
   ],
   "source": [
    "search_attractors(1)\n",
    "plt.show()"
   ]
  },
  {
   "cell_type": "code",
   "execution_count": 18,
   "metadata": {},
   "outputs": [],
   "source": [
    "def draw_attractors(parameters):\n",
    "\n",
    "    # Unpack the parameters\n",
    "    x, y, a = parameters\n",
    "\n",
    "    # Store path in lists\n",
    "    x_list = [x]\n",
    "    y_list = [y]\n",
    "\n",
    "\n",
    "    # Iterativey pass (x, y) into the quadratic map\n",
    "    for i in range(10000):\n",
    "\n",
    "        # Compute next point using the current point coordinates and parameter vector\n",
    "        # Quadratic map: x_t+1 = (a_1) + (a_2 * x_t) + (a_3 * x_t ^ 2) + (a_4 * y_t) + (a_5 * y_t ^ 2) + (a_6 * x_t * y_t)\n",
    "        #                y_t+1 = (a_7) + (a_8 * x_t) + (a_9 * x_t ^ 2) + (a_10 * y_t) + (a_11 * y_t ^ 2) + (a_12 * x_t * y_t)\n",
    "        # Order of 'a' values does not matter as they are all random\n",
    "\n",
    "        x_new = a[0] + (a[1] * x) + (a[2] * (x ** 2)) + (a[3] * y) + (a[4] * (y ** 2)) + (a[5] * x * y)\n",
    "        y_new = a[6] + (a[7] * x) + (a[8] * (x ** 2)) + (a[9] * y) + (a[10] * (y ** 2)) + (a[11] * x * y)\n",
    "\n",
    "        # Update x and y\n",
    "        x = x_new\n",
    "        y = y_new\n",
    "\n",
    "        # Store new (x, y) in path lists\n",
    "        x_list.append(x)\n",
    "        y_list.append(y)\n",
    "\n",
    "    # Clear figure - when saving figures\n",
    "    plt.clf()\n",
    "\n",
    "    # Plot design\n",
    "    plt.style.use(\"dark_background\")\n",
    "    plt.axis(\"off\")\n",
    "\n",
    "    # Create the plot\n",
    "    plt.scatter(x_list[100:], y_list[100:], s = 0.1, c = \"white\", linewidth = 0)\n",
    "    # plt.show() # Comment if saving figures\n",
    "\n",
    "    # Save the figure\n",
    "    name = str(time())\n",
    "    plt.savefig(\"strange_attractors Gallery/Draw/\" + name + \".png\", dpi = 1000)"
   ]
  },
  {
   "cell_type": "code",
   "execution_count": 23,
   "metadata": {},
   "outputs": [],
   "source": [
    "# parameters = ((-0.13223910972167408, 0.28068374567800203, [0.36429356083066766, 1.0158848986935358, -1.7907739072895255, -1.2830667607314954, -0.7057445694010105, 1.8430556776409652, -0.018806058807232073, -0.28831239250682517, 1.9369047393668875, -1.0893003843639009, -0.18437493849823028, -1.5590248502625665]))\n",
    "\n",
    "# draw_attractors(parameters = parameters)"
   ]
  }
 ],
 "metadata": {
  "kernelspec": {
   "display_name": "py3120",
   "language": "python",
   "name": "python3"
  },
  "language_info": {
   "codemirror_mode": {
    "name": "ipython",
    "version": 3
   },
   "file_extension": ".py",
   "mimetype": "text/x-python",
   "name": "python",
   "nbconvert_exporter": "python",
   "pygments_lexer": "ipython3",
   "version": "3.12.0"
  }
 },
 "nbformat": 4,
 "nbformat_minor": 2
}
